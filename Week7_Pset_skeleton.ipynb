{
 "cells": [
  {
   "cell_type": "markdown",
   "metadata": {},
   "source": [
    "## Problem set: Week 7 (Resting fMRI)\n",
    "In this problem set you will load the correlation data from one of the Midnight Scan Club subjects (which has already been extracted using the Glasser MMP parcellation) and perform several analyses to characterize the network.\n",
    "\n",
    "As before, skeletal code is provided - please fill in any areas where you see ...\n"
   ]
  },
  {
   "cell_type": "code",
   "execution_count": 1,
   "metadata": {},
   "outputs": [],
   "source": [
    "import os,pickle,sys\n",
    "import numpy,pandas\n",
    "import nilearn.datasets\n",
    "import nilearn.plotting\n",
    "import matplotlib.pyplot as plt\n",
    "import scipy.stats\n",
    "import scipy.spatial.distance\n",
    "import networkx as nx\n",
    "import sklearn.metrics\n",
    "import bct\n",
    "from collections import Counter\n",
    "\n",
    "from brainnetworks.r2z import r_to_z,z_to_r\n",
    "%matplotlib inline\n",
    "\n",
    "datadir = nilearn.datasets.get_data_dirs()[0]\n",
    "if not os.path.exists(datadir):\n",
    "    os.mkdir(datadir)\n",
    "    \n",
    "atlasdir='/home/vagrant/brain-networks-course/data/HCP-MMP1'\n",
    "\n",
    "labelfile=os.path.join(atlasdir,'MMP_yeo2011_networks.csv')\n",
    "labeldata=pandas.read_csv(labelfile)\n",
    "labeldata = labeldata.rename(columns={labeldata.columns[0]: 'Index'})\n"
   ]
  },
  {
   "cell_type": "code",
   "execution_count": 2,
   "metadata": {},
   "outputs": [],
   "source": [
    "# first load the data\n",
    "\n",
    "sub=1\n",
    "corrtype='gsr'  # use data with global signal regression\n",
    "scrubtype='full' # don't use scrubbing\n",
    "\n",
    "\n",
    "subdir=os.path.join(datadir,'MSC/ds000224/derivatives/fmriprep/sub-MSC%02d/'%sub)\n",
    "\n",
    "corrs=pickle.load(open(os.path.join(subdir,'sub-MSC%02d_task-rest_corrmtx.pkl'%sub),'rb'))\n",
    "\n"
   ]
  },
  {
   "cell_type": "markdown",
   "metadata": {},
   "source": [
    "Now compute the mean correlation matrix across sesssions, using the r-to-z transform to first convert them to Z scores and then convert back to r values after averaging. The correlation data are stored in a dictionary, with the following key structure:\n",
    "\n",
    "> ```corrs[session num][corrtype:{'gsr','nogsr'}][scrubtype:{'scrubbed','full'}]```\n",
    "\n",
    "We will use corrtype and scrubtype as specified above"
   ]
  },
  {
   "cell_type": "code",
   "execution_count": 3,
   "metadata": {},
   "outputs": [
    {
     "name": "stderr",
     "output_type": "stream",
     "text": [
      "/home/vagrant/miniconda3/envs/py3/lib/python3.6/site-packages/brainnetworks/r2z.py:9: RuntimeWarning: divide by zero encountered in true_divide\n",
      "  z=0.5*numpy.log((1.0+r)/(1.0-r))\n"
     ]
    }
   ],
   "source": [
    "corrsum=numpy.zeros(corrs[1][corrtype][scrubtype].shape)\n",
    "for s in corrs:\n",
    "    sesscor=corrs[s][corrtype][scrubtype]\n",
    "    corrsum+=r_to_z(sesscor)\n",
    "    \n",
    "meancorr=z_to_r(corrsum/len(corrs))\n",
    "    \n",
    "\n"
   ]
  },
  {
   "cell_type": "markdown",
   "metadata": {},
   "source": [
    "**Problem 1**: Create a binary adjacency matrix with a density of 5%, and use this to create a NetworkX graph.  Be sure to do the following:\n",
    "\n",
    "- exclude the diagonal when computing the cutoff \n",
    "- zero out the diagonal before creating the graph\n",
    "- extract the giant component from the graph (calling the resulting variable ```Gc```)\n",
    "- print the number of nodes in the giant component"
   ]
  },
  {
   "cell_type": "code",
   "execution_count": 4,
   "metadata": {},
   "outputs": [
    {
     "name": "stdout",
     "output_type": "stream",
     "text": [
      "Giant component includes 356 out of 360 total nodes\n"
     ]
    }
   ],
   "source": [
    "# determine cutoff for 5% density of the correlation matrix\n",
    "# using just the upper triangle of the matrix\n",
    "thresh = 95  # in percent\n",
    "cutoff = numpy.percentile(scipy.spatial.distance.squareform(meancorr, checks=False), thresh)\n",
    "\n",
    "#create symmetric binary adjacency matrix\n",
    "# be sure to convert to integer\n",
    "adjmtx = meancorr >= cutoff\n",
    "\n",
    "# zero out the diagonal in the adjmtx\n",
    "adjmtx[numpy.eye(len(adjmtx), dtype='bool')] = 0\n",
    "adjmtx.dtype = 'uint8'\n",
    "\n",
    "# Create numpy graph\n",
    "G = nx.from_numpy_matrix(adjmtx)\n",
    "\n",
    "# create graph for giant component\n",
    "# first get all component subgraphs\n",
    "comps = nx.connected_component_subgraphs(G)\n",
    "# then take the largest\n",
    "Gc = max(comps, key=len)\n",
    "\n",
    "adjmtxc = nx.to_numpy_array(Gc)\n",
    "\n",
    "print('Giant component includes %d out of %d total nodes'%(len(Gc.nodes),len(G.nodes)))\n",
    "\n",
    "# grab the label data for only the nodes in the giant component\n",
    "labeldata_Gc=labeldata.loc[list(Gc.nodes)]\n",
    "# add degree values to labeldata frame\n",
    "labeldata_Gc['degree']=[Gc.degree[i] for i in labeldata_Gc.index]\n",
    "\n",
    "\n"
   ]
  },
  {
   "cell_type": "markdown",
   "metadata": {},
   "source": [
    "**Problem 3**: Perform community detection on the graph, using the Louvain algorithm for undirected binary graphs as implemented in the bct python package, and compute their overlap with the Yeo 7 network parcellation\n",
    "\n"
   ]
  },
  {
   "cell_type": "code",
   "execution_count": 5,
   "metadata": {},
   "outputs": [
    {
     "name": "stdout",
     "output_type": "stream",
     "text": [
      "modularity: 0.6551246766923762\n",
      "Multilevel modularity optimization identifed 7 communities\n",
      "Adjusted Rand index compared to Yeo 7 networks: 0.400\n"
     ]
    }
   ],
   "source": [
    "# compute modularity using bct\n",
    "mod_binary = bct.modularity_louvain_und(adjmtxc)\n",
    "\n",
    "print('modularity:',mod_binary[1])\n",
    "print('Multilevel modularity optimization identifed %d communities'%len(numpy.unique(mod_binary[0])))\n",
    "\n",
    "# compute adjusted rand score using method from sklearn.metrics\n",
    "ari = sklearn.metrics.adjusted_rand_score(mod_binary[0],labeldata_Gc['Yeo7'])\n",
    "print('Adjusted Rand index compared to Yeo 7 networks: %0.3f'%ari)\n",
    "\n"
   ]
  },
  {
   "cell_type": "markdown",
   "metadata": {},
   "source": [
    "**Problem 4**: Estimate the normalized rich club coefficient for this network and plot the coefficients across the range of degree values.  Find the smallest degree value  for which the rich club coefficient is greater than 2, which we will use to define the rich club nodes."
   ]
  },
  {
   "cell_type": "code",
   "execution_count": 6,
   "metadata": {},
   "outputs": [
    {
     "name": "stdout",
     "output_type": "stream",
     "text": [
      "degree_cutoff: 35\n",
      "43 nodes in rich club\n"
     ]
    },
    {
     "data": {
      "text/plain": [
       "<matplotlib.legend.Legend at 0x7f6f8b4de278>"
      ]
     },
     "execution_count": 6,
     "metadata": {},
     "output_type": "execute_result"
    },
    {
     "data": {
      "image/png": "[encoded data removed]",
      "text/plain": [
       "<Figure size 432x288 with 1 Axes>"
      ]
     },
     "metadata": {
      "needs_background": "light"
     },
     "output_type": "display_data"
    }
   ],
   "source": [
    "# embed computation of rcc within a try/catch since it fails\n",
    "# pretty regularly with a ZeroDivisionError\n",
    "good_rcc=False\n",
    "while not good_rcc:\n",
    "    try:\n",
    "        rcc = nx.rich_club_coefficient(Gc)\n",
    "        good_rcc=True\n",
    "    except ZeroDivisionError:\n",
    "        print('error, retrying')\n",
    "        \n",
    "# put into a data frame\n",
    "rccdata=pandas.DataFrame([(i,rcc[i]) for i in rcc.keys()],\n",
    "                         columns=['degree','rcc'])\n",
    "\n",
    "# find the degree cutoff for rcc >= 2\n",
    "degree_cutoff = rccdata.loc[rccdata['rcc']>=2]['degree'].iloc[0]\n",
    "print('degree_cutoff:',degree_cutoff)\n",
    "\n",
    "# compute the size of the rich club\n",
    "rc_size = len(labeldata_Gc.loc[labeldata_Gc['degree']>=degree_cutoff])\n",
    "print(rc_size,'nodes in rich club')\n",
    "\n",
    "# Plot\n",
    "plt.plot(rccdata['degree'], rccdata['rcc'], label='Rich club coefficient')\n",
    "plt.axhline(y=2, linestyle=':', color='red', label='Threshold (RCC = 2)')\n",
    "plt.ylabel('Rich club coefficient')\n",
    "plt.xlabel('Degree')\n",
    "plt.legend()"
   ]
  },
  {
   "cell_type": "markdown",
   "metadata": {},
   "source": [
    "**Problem 5:** For each of the Yeo7 networks, determine how many rich club members fall within that network."
   ]
  },
  {
   "cell_type": "code",
   "execution_count": 7,
   "metadata": {},
   "outputs": [
    {
     "name": "stdout",
     "output_type": "stream",
     "text": [
      "{'Visual': 21, 'DorsalAttention': 6, 'VentralAttention': 13, 'Default': 2, 'Somatomotor': 1}\n"
     ]
    }
   ],
   "source": [
    "# first create a data frame containing label data just for rcc members\n",
    "\n",
    "labeldata_rcc = labeldata_Gc.loc[labeldata_Gc['degree']>=degree_cutoff]\n",
    "\n",
    "# use collections.Counter to generate a list of the counts of members in each\n",
    "# Yeo7 network\n",
    "c = dict(Counter(labeldata_rcc['YeoDesc7']))\n",
    "print(c)"
   ]
  },
  {
   "cell_type": "markdown",
   "metadata": {},
   "source": [
    "**Problem 6:** First, compute the node betweenness centrality and edge betweeness centrality for the giant component network.  "
   ]
  },
  {
   "cell_type": "code",
   "execution_count": 8,
   "metadata": {},
   "outputs": [],
   "source": [
    "# compute edge betweenness centrality\n",
    "ebc = nx.edge_betweenness_centrality(Gc)\n",
    "\n",
    "# compute node betweenness centrality\n",
    "bc = nx.betweenness_centrality(Gc)"
   ]
  },
  {
   "cell_type": "markdown",
   "metadata": {},
   "source": [
    "Then, compute the mean betweenness centrality for edges separated by whether they include 0, 1, or 2 members of the rich club, and print out the mean values for each."
   ]
  },
  {
   "cell_type": "code",
   "execution_count": 9,
   "metadata": {},
   "outputs": [
    {
     "name": "stdout",
     "output_type": "stream",
     "text": [
      "Mean betweenness centrality for edges incident on 0 rich-club nodes: 0.001303639459318467\n",
      "Mean betweenness centrality for edges incident on 1 rich-club nodes: 0.0010032096606917421\n",
      "Mean betweenness centrality for edges incident on 2 rich-club nodes: 0.0004747857984713991\n"
     ]
    }
   ],
   "source": [
    "def is_rc(node):\n",
    "    return node in labeldata_rcc['Index']\n",
    "\n",
    "rce = {}\n",
    "for i in range(3):\n",
    "    rce[i] = [ebc[j] for j in ebc if sum([is_rc(j[0]), is_rc(j[1])])==i]\n",
    "    print('Mean betweenness centrality for edges incident on {} rich-club nodes: {}'.format(i, numpy.mean(rce[i])))"
   ]
  },
  {
   "cell_type": "markdown",
   "metadata": {},
   "source": [
    "Now compute the mean betweenness centrality for nodes, separated by whether the nodes are members of the rich club or not, and print the values for each."
   ]
  },
  {
   "cell_type": "code",
   "execution_count": 10,
   "metadata": {},
   "outputs": [
    {
     "name": "stdout",
     "output_type": "stream",
     "text": [
      "Mean betweenness centrality for rich-club nodes: 0.012539901048146873\n",
      "Mean betweenness centrality for non-rich-club nodes: 0.006572179058063817\n"
     ]
    }
   ],
   "source": [
    "rcn = {}\n",
    "for i in range(2):\n",
    "    rcn[i] = [bc[j] for j in bc if sum([is_rc(j)])==i]\n",
    "\n",
    "print('Mean betweenness centrality for rich-club nodes: {}'.format(numpy.mean(rcn[1])))\n",
    "print('Mean betweenness centrality for non-rich-club nodes: {}'.format(numpy.mean(rcn[0])))"
   ]
  },
  {
   "cell_type": "markdown",
   "metadata": {},
   "source": [
    "How does centrality of both nodes and edges relate to rich club membership?  Please explain (insert your answer in the following cell)."
   ]
  },
  {
   "cell_type": "markdown",
   "metadata": {},
   "source": [
    "Node betweenness centrality appears to be related to rich club membership; the mean betweenness centrality of rich-club nodes is approximately twice that of non-rich-club nodes. The rich club constitutes nodes of high degree with a large number of mutual connections. Betweenness centrality measures the extent to which shortest paths between every pair of nodes pass through a particular node or edge. Intuitively, it might be expected that shortest paths would frequently traverse a highly interconnected rich club of nodes.\n",
    "\n",
    "Curiously, edge betweenness centrality did not appear to be positively related to rich club membership; in particular, edges that connected rich club nodes to one another less frequently participated in shortest paths than did other edges. This suggests that shortest paths traverse the rich club but only infrequently remain inside the rich club. This can potentially be ascribed to some redundancy between the edges of the highly connected rich club nodes. In other words: while there are many parallel (redundant) pathways across the rich club, there are fewer pathways in the network's periphery, and shortest paths in the periphery are consequently more restricted in terms of which edges they can traverse."
   ]
  }
 ],
 "metadata": {
  "kernelspec": {
   "display_name": "Python 3",
   "language": "python",
   "name": "python3"
  },
  "language_info": {
   "codemirror_mode": {
    "name": "ipython",
    "version": 3
   },
   "file_extension": ".py",
   "mimetype": "text/x-python",
   "name": "python",
   "nbconvert_exporter": "python",
   "pygments_lexer": "ipython3",
   "version": "3.6.6"
  }
 },
 "nbformat": 4,
 "nbformat_minor": 2
}
